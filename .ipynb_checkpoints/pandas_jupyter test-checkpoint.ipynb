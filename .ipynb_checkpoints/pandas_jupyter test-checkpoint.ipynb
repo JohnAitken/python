{
 "cells": [
  {
   "cell_type": "markdown",
   "metadata": {},
   "source": [
    "## Python Pandas CSV tutorial  - notebook"
   ]
  },
  {
   "cell_type": "markdown",
   "metadata": {},
   "source": [
    "First we import the PANDAS module\n",
    "The file is then read and assigned to variable 'df'. This is imported as a dataframe (as shown using the type function's output)"
   ]
  },
  {
   "cell_type": "code",
   "execution_count": 1,
   "metadata": {},
   "outputs": [],
   "source": [
    "import pandas as pd\n",
    "\n",
    "df = pd.read_csv('booklist_data.csv')"
   ]
  },
  {
   "cell_type": "code",
   "execution_count": 2,
   "metadata": {},
   "outputs": [
    {
     "data": {
      "text/plain": [
       "pandas.core.frame.DataFrame"
      ]
     },
     "execution_count": 2,
     "metadata": {},
     "output_type": "execute_result"
    }
   ],
   "source": [
    "type(df)"
   ]
  },
  {
   "cell_type": "markdown",
   "metadata": {},
   "source": [
    "## Analysing the data\n"
   ]
  },
  {
   "cell_type": "markdown",
   "metadata": {},
   "source": [
    "We can then view the data using the head() function to show the first 5 lines. This is not formatted clearly, though."
   ]
  },
  {
   "cell_type": "code",
   "execution_count": 3,
   "metadata": {},
   "outputs": [
    {
     "name": "stdout",
     "output_type": "stream",
     "text": [
      "                                           File_Name  \\\n",
      "0        048-52378_ch00_4P.indd - Administrator.mobi   \n",
      "1                 07 Reckless - Allison Brennan.mobi   \n",
      "2  1. The Hitch Hikers Guide to Galaxy - Douglas ...   \n",
      "3  10 Laws of Career Reinvention_ Essential Survi...   \n",
      "4  100 Simple Secrets of Happy People_ What Scien...   \n",
      "\n",
      "                                           File_Path  \n",
      "0  C:\\Users\\JA\\iCloudDrive\\Mobi Bin\\048-52378_ch0...  \n",
      "1  C:\\Users\\JA\\iCloudDrive\\Mobi Bin\\07 Reckless -...  \n",
      "2  C:\\Users\\JA\\iCloudDrive\\Mobi Bin\\1. The Hitch ...  \n",
      "3  C:\\Users\\JA\\iCloudDrive\\Mobi Bin\\10 Laws of Ca...  \n",
      "4  C:\\Users\\JA\\iCloudDrive\\Mobi Bin\\100 Simple Se...  \n"
     ]
    }
   ],
   "source": [
    "print(df.head(5))\n"
   ]
  },
  {
   "cell_type": "markdown",
   "metadata": {},
   "source": [
    "We can just show the head as follows, which is formatted much better"
   ]
  },
  {
   "cell_type": "code",
   "execution_count": 4,
   "metadata": {},
   "outputs": [
    {
     "data": {
      "text/html": [
       "<div>\n",
       "<style scoped>\n",
       "    .dataframe tbody tr th:only-of-type {\n",
       "        vertical-align: middle;\n",
       "    }\n",
       "\n",
       "    .dataframe tbody tr th {\n",
       "        vertical-align: top;\n",
       "    }\n",
       "\n",
       "    .dataframe thead th {\n",
       "        text-align: right;\n",
       "    }\n",
       "</style>\n",
       "<table border=\"1\" class=\"dataframe\">\n",
       "  <thead>\n",
       "    <tr style=\"text-align: right;\">\n",
       "      <th></th>\n",
       "      <th>File_Name</th>\n",
       "      <th>File_Path</th>\n",
       "    </tr>\n",
       "  </thead>\n",
       "  <tbody>\n",
       "    <tr>\n",
       "      <th>0</th>\n",
       "      <td>048-52378_ch00_4P.indd - Administrator.mobi</td>\n",
       "      <td>C:\\Users\\JA\\iCloudDrive\\Mobi Bin\\048-52378_ch0...</td>\n",
       "    </tr>\n",
       "    <tr>\n",
       "      <th>1</th>\n",
       "      <td>07 Reckless - Allison Brennan.mobi</td>\n",
       "      <td>C:\\Users\\JA\\iCloudDrive\\Mobi Bin\\07 Reckless -...</td>\n",
       "    </tr>\n",
       "    <tr>\n",
       "      <th>2</th>\n",
       "      <td>1. The Hitch Hikers Guide to Galaxy - Douglas ...</td>\n",
       "      <td>C:\\Users\\JA\\iCloudDrive\\Mobi Bin\\1. The Hitch ...</td>\n",
       "    </tr>\n",
       "    <tr>\n",
       "      <th>3</th>\n",
       "      <td>10 Laws of Career Reinvention_ Essential Survi...</td>\n",
       "      <td>C:\\Users\\JA\\iCloudDrive\\Mobi Bin\\10 Laws of Ca...</td>\n",
       "    </tr>\n",
       "    <tr>\n",
       "      <th>4</th>\n",
       "      <td>100 Simple Secrets of Happy People_ What Scien...</td>\n",
       "      <td>C:\\Users\\JA\\iCloudDrive\\Mobi Bin\\100 Simple Se...</td>\n",
       "    </tr>\n",
       "  </tbody>\n",
       "</table>\n",
       "</div>"
      ],
      "text/plain": [
       "                                           File_Name  \\\n",
       "0        048-52378_ch00_4P.indd - Administrator.mobi   \n",
       "1                 07 Reckless - Allison Brennan.mobi   \n",
       "2  1. The Hitch Hikers Guide to Galaxy - Douglas ...   \n",
       "3  10 Laws of Career Reinvention_ Essential Survi...   \n",
       "4  100 Simple Secrets of Happy People_ What Scien...   \n",
       "\n",
       "                                           File_Path  \n",
       "0  C:\\Users\\JA\\iCloudDrive\\Mobi Bin\\048-52378_ch0...  \n",
       "1  C:\\Users\\JA\\iCloudDrive\\Mobi Bin\\07 Reckless -...  \n",
       "2  C:\\Users\\JA\\iCloudDrive\\Mobi Bin\\1. The Hitch ...  \n",
       "3  C:\\Users\\JA\\iCloudDrive\\Mobi Bin\\10 Laws of Ca...  \n",
       "4  C:\\Users\\JA\\iCloudDrive\\Mobi Bin\\100 Simple Se...  "
      ]
     },
     "execution_count": 4,
     "metadata": {},
     "output_type": "execute_result"
    }
   ],
   "source": [
    "df.head()"
   ]
  },
  {
   "cell_type": "markdown",
   "metadata": {},
   "source": [
    "The following will print a summary of the nature of the df dataframe"
   ]
  },
  {
   "cell_type": "code",
   "execution_count": 5,
   "metadata": {},
   "outputs": [
    {
     "name": "stdout",
     "output_type": "stream",
     "text": [
      "<class 'pandas.core.frame.DataFrame'>\n",
      "RangeIndex: 8938 entries, 0 to 8937\n",
      "Data columns (total 2 columns):\n",
      " #   Column     Non-Null Count  Dtype \n",
      "---  ------     --------------  ----- \n",
      " 0   File_Name  8938 non-null   object\n",
      " 1   File_Path  8938 non-null   object\n",
      "dtypes: object(2)\n",
      "memory usage: 139.8+ KB\n",
      "None\n"
     ]
    }
   ],
   "source": [
    "print(df.info()) "
   ]
  }
 ],
 "metadata": {
  "kernelspec": {
   "display_name": "Python 3",
   "language": "python",
   "name": "python3"
  },
  "language_info": {
   "codemirror_mode": {
    "name": "ipython",
    "version": 3
   },
   "file_extension": ".py",
   "mimetype": "text/x-python",
   "name": "python",
   "nbconvert_exporter": "python",
   "pygments_lexer": "ipython3",
   "version": "3.12.0"
  }
 },
 "nbformat": 4,
 "nbformat_minor": 2
}
