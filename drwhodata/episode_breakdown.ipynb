{
 "cells": [
  {
   "cell_type": "markdown",
   "metadata": {},
   "source": [
    "# Doctror Who data - episode breakdown\n",
    "\n",
    "We have a csv of episode data and another csv with the cast list that we need to combine into a single dataframe so we can filter/search etc. So first job is to import the csvs into dataframes using Pandas."
   ]
  },
  {
   "cell_type": "code",
   "execution_count": 1,
   "metadata": {},
   "outputs": [],
   "source": [
    "import pandas as pd\n",
    "\n",
    "dwguide = pd.read_csv('dwguide_clean.csv')\n",
    "castlist = pd.read_csv('castlist.csv')"
   ]
  },
  {
   "cell_type": "markdown",
   "metadata": {},
   "source": [
    "Let's join these tables in Pandas into a **joineddata** dataframe. Left join, specifically... This will get us long data, where the dwguide info in duplicated and the roles and names are all there for each entry. It is a LONG dataset now, literally..."
   ]
  },
  {
   "cell_type": "code",
   "execution_count": 2,
   "metadata": {},
   "outputs": [
    {
     "name": "stdout",
     "output_type": "stream",
     "text": [
      "<class 'pandas.core.frame.DataFrame'>\n",
      "RangeIndex: 25665 entries, 0 to 25664\n",
      "Data columns (total 13 columns):\n",
      " #   Column         Non-Null Count  Dtype  \n",
      "---  ------         --------------  -----  \n",
      " 0   episodenbr     25665 non-null  int64  \n",
      " 1   title          25665 non-null  object \n",
      " 2   weekday        25665 non-null  object \n",
      " 3   broadcastdate  25665 non-null  object \n",
      " 4   broadcasthour  25665 non-null  object \n",
      " 5   duration       25665 non-null  object \n",
      " 6   views          25665 non-null  object \n",
      " 7   share          8763 non-null   object \n",
      " 8   AI             20058 non-null  float64\n",
      " 9   chart          25665 non-null  int64  \n",
      " 10  summary        19543 non-null  object \n",
      " 11  role           25665 non-null  object \n",
      " 12  name           25665 non-null  object \n",
      "dtypes: float64(1), int64(2), object(10)\n",
      "memory usage: 2.5+ MB\n"
     ]
    }
   ],
   "source": [
    "jd = pd.merge(dwguide, castlist, how=\"left\", on=\"episodenbr\")\n",
    "\n",
    "jd.info()\n"
   ]
  },
  {
   "cell_type": "markdown",
   "metadata": {},
   "source": [
    "Now we can filter for any particular episode, or even the name of the episode to get the full info. Say we want to return everything about episode 1. This uses the **loc** attribute to return any rows meeting the criteria."
   ]
  },
  {
   "cell_type": "code",
   "execution_count": 3,
   "metadata": {},
   "outputs": [
    {
     "name": "stdout",
     "output_type": "stream",
     "text": [
      "      episodenbr               title weekday broadcastdate broadcasthour  \\\n",
      "9969           1  An Unearthly Child     Sat   23 Nov 1963        5:16pm   \n",
      "9970           1  An Unearthly Child     Sat   23 Nov 1963        5:16pm   \n",
      "9971           1  An Unearthly Child     Sat   23 Nov 1963        5:16pm   \n",
      "9972           1  An Unearthly Child     Sat   23 Nov 1963        5:16pm   \n",
      "9973           1  An Unearthly Child     Sat   23 Nov 1963        5:16pm   \n",
      "9974           1  An Unearthly Child     Sat   23 Nov 1963        5:16pm   \n",
      "9975           1  An Unearthly Child     Sat   23 Nov 1963        5:16pm   \n",
      "9976           1  An Unearthly Child     Sat   23 Nov 1963        5:16pm   \n",
      "9977           1  An Unearthly Child     Sat   23 Nov 1963        5:16pm   \n",
      "9978           1  An Unearthly Child     Sat   23 Nov 1963        5:16pm   \n",
      "9979           1  An Unearthly Child     Sat   23 Nov 1963        5:16pm   \n",
      "9980           1  An Unearthly Child     Sat   23 Nov 1963        5:16pm   \n",
      "9981           1  An Unearthly Child     Sat   23 Nov 1963        5:16pm   \n",
      "\n",
      "      duration  views share    AI  chart  \\\n",
      "9969  00:23:10  4.40m   NaN  63.0    114   \n",
      "9970  00:23:10  4.40m   NaN  63.0    114   \n",
      "9971  00:23:10  4.40m   NaN  63.0    114   \n",
      "9972  00:23:10  4.40m   NaN  63.0    114   \n",
      "9973  00:23:10  4.40m   NaN  63.0    114   \n",
      "9974  00:23:10  4.40m   NaN  63.0    114   \n",
      "9975  00:23:10  4.40m   NaN  63.0    114   \n",
      "9976  00:23:10  4.40m   NaN  63.0    114   \n",
      "9977  00:23:10  4.40m   NaN  63.0    114   \n",
      "9978  00:23:10  4.40m   NaN  63.0    114   \n",
      "9979  00:23:10  4.40m   NaN  63.0    114   \n",
      "9980  00:23:10  4.40m   NaN  63.0    114   \n",
      "9981  00:23:10  4.40m   NaN  63.0    114   \n",
      "\n",
      "                                                summary            role  \\\n",
      "9969  After discussing a strange pupil, Susan Forema...         Dr. Who   \n",
      "9970  After discussing a strange pupil, Susan Forema...  Ian Chesterton   \n",
      "9971  After discussing a strange pupil, Susan Forema...  Barbara Wright   \n",
      "9972  After discussing a strange pupil, Susan Forema...   Susan Foreman   \n",
      "9973  After discussing a strange pupil, Susan Forema...       Policeman   \n",
      "9974  After discussing a strange pupil, Susan Forema...    School Child   \n",
      "9975  After discussing a strange pupil, Susan Forema...    School Child   \n",
      "9976  After discussing a strange pupil, Susan Forema...    School Child   \n",
      "9977  After discussing a strange pupil, Susan Forema...    School Child   \n",
      "9978  After discussing a strange pupil, Susan Forema...    School Child   \n",
      "9979  After discussing a strange pupil, Susan Forema...    School Child   \n",
      "9980  After discussing a strange pupil, Susan Forema...    School Child   \n",
      "9981  After discussing a strange pupil, Susan Forema...             Kal   \n",
      "\n",
      "                                   name  \n",
      "9969                   William Hartnell  \n",
      "9970                    William Russell  \n",
      "9971                    Jacqueline Hill  \n",
      "9972                    Carole Ann Ford  \n",
      "9973         Reg Cranfield (uncredited)  \n",
      "9974         Carole Clarke (uncredited)  \n",
      "9975          Mavis Ransom (uncredited)  \n",
      "9976  Francesca Bertorelli (uncredited)  \n",
      "9977         Heather Lyons (uncredited)  \n",
      "9978       Cedric Schoeman (uncredited)  \n",
      "9979        Richard Wilson (uncredited)  \n",
      "9980          Brian Thomas (uncredited)  \n",
      "9981          Leslie Bates (uncredited)  \n"
     ]
    }
   ],
   "source": [
    "ep1 = jd.loc[jd['episodenbr'] == 1]\n",
    "\n",
    "print(ep1)"
   ]
  },
  {
   "cell_type": "markdown",
   "metadata": {},
   "source": [
    "Make a list of all the titles and episode numbers"
   ]
  },
  {
   "cell_type": "code",
   "execution_count": 4,
   "metadata": {},
   "outputs": [],
   "source": [
    "titles = jd.title.unique()"
   ]
  },
  {
   "cell_type": "markdown",
   "metadata": {},
   "source": [
    "To make this interesting, we could ask the user for a specific title and return the data from that particular episode."
   ]
  },
  {
   "cell_type": "code",
   "execution_count": 5,
   "metadata": {},
   "outputs": [
    {
     "name": "stdout",
     "output_type": "stream",
     "text": [
      "Filtered DataFrame:\n",
      "      episodenbr               title weekday broadcastdate broadcasthour  \\\n",
      "9969           1  An Unearthly Child     Sat   23 Nov 1963        5:16pm   \n",
      "9970           1  An Unearthly Child     Sat   23 Nov 1963        5:16pm   \n",
      "9971           1  An Unearthly Child     Sat   23 Nov 1963        5:16pm   \n",
      "9972           1  An Unearthly Child     Sat   23 Nov 1963        5:16pm   \n",
      "9973           1  An Unearthly Child     Sat   23 Nov 1963        5:16pm   \n",
      "9974           1  An Unearthly Child     Sat   23 Nov 1963        5:16pm   \n",
      "9975           1  An Unearthly Child     Sat   23 Nov 1963        5:16pm   \n",
      "9976           1  An Unearthly Child     Sat   23 Nov 1963        5:16pm   \n",
      "9977           1  An Unearthly Child     Sat   23 Nov 1963        5:16pm   \n",
      "9978           1  An Unearthly Child     Sat   23 Nov 1963        5:16pm   \n",
      "9979           1  An Unearthly Child     Sat   23 Nov 1963        5:16pm   \n",
      "9980           1  An Unearthly Child     Sat   23 Nov 1963        5:16pm   \n",
      "9981           1  An Unearthly Child     Sat   23 Nov 1963        5:16pm   \n",
      "\n",
      "      duration  views share    AI  chart  \\\n",
      "9969  00:23:10  4.40m   NaN  63.0    114   \n",
      "9970  00:23:10  4.40m   NaN  63.0    114   \n",
      "9971  00:23:10  4.40m   NaN  63.0    114   \n",
      "9972  00:23:10  4.40m   NaN  63.0    114   \n",
      "9973  00:23:10  4.40m   NaN  63.0    114   \n",
      "9974  00:23:10  4.40m   NaN  63.0    114   \n",
      "9975  00:23:10  4.40m   NaN  63.0    114   \n",
      "9976  00:23:10  4.40m   NaN  63.0    114   \n",
      "9977  00:23:10  4.40m   NaN  63.0    114   \n",
      "9978  00:23:10  4.40m   NaN  63.0    114   \n",
      "9979  00:23:10  4.40m   NaN  63.0    114   \n",
      "9980  00:23:10  4.40m   NaN  63.0    114   \n",
      "9981  00:23:10  4.40m   NaN  63.0    114   \n",
      "\n",
      "                                                summary            role  \\\n",
      "9969  After discussing a strange pupil, Susan Forema...         Dr. Who   \n",
      "9970  After discussing a strange pupil, Susan Forema...  Ian Chesterton   \n",
      "9971  After discussing a strange pupil, Susan Forema...  Barbara Wright   \n",
      "9972  After discussing a strange pupil, Susan Forema...   Susan Foreman   \n",
      "9973  After discussing a strange pupil, Susan Forema...       Policeman   \n",
      "9974  After discussing a strange pupil, Susan Forema...    School Child   \n",
      "9975  After discussing a strange pupil, Susan Forema...    School Child   \n",
      "9976  After discussing a strange pupil, Susan Forema...    School Child   \n",
      "9977  After discussing a strange pupil, Susan Forema...    School Child   \n",
      "9978  After discussing a strange pupil, Susan Forema...    School Child   \n",
      "9979  After discussing a strange pupil, Susan Forema...    School Child   \n",
      "9980  After discussing a strange pupil, Susan Forema...    School Child   \n",
      "9981  After discussing a strange pupil, Susan Forema...             Kal   \n",
      "\n",
      "                                   name  \n",
      "9969                   William Hartnell  \n",
      "9970                    William Russell  \n",
      "9971                    Jacqueline Hill  \n",
      "9972                    Carole Ann Ford  \n",
      "9973         Reg Cranfield (uncredited)  \n",
      "9974         Carole Clarke (uncredited)  \n",
      "9975          Mavis Ransom (uncredited)  \n",
      "9976  Francesca Bertorelli (uncredited)  \n",
      "9977         Heather Lyons (uncredited)  \n",
      "9978       Cedric Schoeman (uncredited)  \n",
      "9979        Richard Wilson (uncredited)  \n",
      "9980          Brian Thomas (uncredited)  \n",
      "9981          Leslie Bates (uncredited)  \n"
     ]
    }
   ],
   "source": [
    "\n",
    "# Ask the user for the value to filter by\n",
    "filter_value = input(\"Enter the title of an epsode to filter by: \")\n",
    "\n",
    "# Filter the DataFrame\n",
    "filtered_df = jd[jd['title'] == filter_value]\n",
    "\n",
    "# Display the result\n",
    "if not filtered_df.empty:\n",
    "    print(\"Filtered DataFrame:\")\n",
    "    print(filtered_df)\n",
    "else:\n",
    "    print(f\"No rows found with Name equal to {filter_value}\")"
   ]
  }
 ],
 "metadata": {
  "kernelspec": {
   "display_name": "Python 3",
   "language": "python",
   "name": "python3"
  },
  "language_info": {
   "codemirror_mode": {
    "name": "ipython",
    "version": 3
   },
   "file_extension": ".py",
   "mimetype": "text/x-python",
   "name": "python",
   "nbconvert_exporter": "python",
   "pygments_lexer": "ipython3",
   "version": "3.12.0"
  }
 },
 "nbformat": 4,
 "nbformat_minor": 2
}
