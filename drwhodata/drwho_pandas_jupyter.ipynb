{
 "cells": [
  {
   "cell_type": "markdown",
   "metadata": {},
   "source": [
    "# Using Pandas to interrogate a csv\n"
   ]
  },
  {
   "cell_type": "markdown",
   "metadata": {},
   "source": [
    "WE have a particular column called \"cast\" that appears to a be a list of dictionaries. I need to move that into its own csv so I can clean the dwguide.csv.\n",
    "\n",
    "I REALLY struggled, but ChatGPT solved it. A fail, I know, but it works.\n"
   ]
  },
  {
   "cell_type": "code",
   "execution_count": 1,
   "metadata": {},
   "outputs": [
    {
     "name": "stdout",
     "output_type": "stream",
     "text": [
      "<class 'pandas.core.frame.DataFrame'>\n",
      "RangeIndex: 851 entries, 0 to 850\n",
      "Data columns (total 13 columns):\n",
      " #   Column         Non-Null Count  Dtype  \n",
      "---  ------         --------------  -----  \n",
      " 0   episodenbr     851 non-null    int64  \n",
      " 1   title          851 non-null    object \n",
      " 2   weekday        851 non-null    object \n",
      " 3   broadcastdate  851 non-null    object \n",
      " 4   broadcasthour  851 non-null    object \n",
      " 5   duration       851 non-null    object \n",
      " 6   views          851 non-null    object \n",
      " 7   share          156 non-null    object \n",
      " 8   AI             626 non-null    float64\n",
      " 9   chart          851 non-null    int64  \n",
      " 10  cast           851 non-null    object \n",
      " 11  crew           851 non-null    object \n",
      " 12  summary        757 non-null    object \n",
      "dtypes: float64(1), int64(2), object(10)\n",
      "memory usage: 86.6+ KB\n"
     ]
    }
   ],
   "source": [
    "import pandas as pd\n",
    "import json\n",
    "\n",
    "# Load your CSV file into a Pandas DataFrame\n",
    "df = pd.read_csv('dwguide.csv')\n",
    "\n",
    "df.info()"
   ]
  },
  {
   "cell_type": "code",
   "execution_count": 2,
   "metadata": {},
   "outputs": [],
   "source": [
    "\n",
    "# Define a function to safely parse JSON\n",
    "def parse_json(json_str):\n",
    "    try:\n",
    "        return json.loads(json_str)\n",
    "    except (ValueError, TypeError):\n",
    "        return []\n",
    "\n",
    "# Apply the function to the column containing JSON data\n",
    "df['cast'] = df['cast'].apply(parse_json)\n",
    "\n",
    "# Create a new DataFrame in long format\n",
    "long_format_data = []\n",
    "\n",
    "for index, row in df.iterrows():\n",
    "    episodenbr = row['episodenbr']\n",
    "    for item in row['cast']:\n",
    "        role = item.get('role', 'N/A')\n",
    "        name = item.get('name', 'N/A')\n",
    "        long_format_data.append({'episodenbr': episodenbr, 'role': role, 'name': name})\n",
    "\n",
    "long_df = pd.DataFrame(long_format_data)\n",
    "\n",
    "\n",
    "long_df.to_csv('castlist.csv', index=False) # this creates the castlist cav with Episodenbr as the index\n",
    "\n"
   ]
  },
  {
   "cell_type": "markdown",
   "metadata": {},
   "source": [
    "So to clean it further I will remove the cast column from the df, and discard the crew one too as I do not need it."
   ]
  },
  {
   "cell_type": "code",
   "execution_count": 3,
   "metadata": {},
   "outputs": [
    {
     "name": "stdout",
     "output_type": "stream",
     "text": [
      "<class 'pandas.core.frame.DataFrame'>\n",
      "RangeIndex: 851 entries, 0 to 850\n",
      "Data columns (total 13 columns):\n",
      " #   Column         Non-Null Count  Dtype  \n",
      "---  ------         --------------  -----  \n",
      " 0   episodenbr     851 non-null    int64  \n",
      " 1   title          851 non-null    object \n",
      " 2   weekday        851 non-null    object \n",
      " 3   broadcastdate  851 non-null    object \n",
      " 4   broadcasthour  851 non-null    object \n",
      " 5   duration       851 non-null    object \n",
      " 6   views          851 non-null    object \n",
      " 7   share          156 non-null    object \n",
      " 8   AI             626 non-null    float64\n",
      " 9   chart          851 non-null    int64  \n",
      " 10  cast           851 non-null    object \n",
      " 11  crew           851 non-null    object \n",
      " 12  summary        757 non-null    object \n",
      "dtypes: float64(1), int64(2), object(10)\n",
      "memory usage: 86.6+ KB\n"
     ]
    }
   ],
   "source": [
    "df.info() #before"
   ]
  },
  {
   "cell_type": "code",
   "execution_count": 4,
   "metadata": {},
   "outputs": [
    {
     "name": "stdout",
     "output_type": "stream",
     "text": [
      "<class 'pandas.core.frame.DataFrame'>\n",
      "RangeIndex: 851 entries, 0 to 850\n",
      "Data columns (total 11 columns):\n",
      " #   Column         Non-Null Count  Dtype  \n",
      "---  ------         --------------  -----  \n",
      " 0   episodenbr     851 non-null    int64  \n",
      " 1   title          851 non-null    object \n",
      " 2   weekday        851 non-null    object \n",
      " 3   broadcastdate  851 non-null    object \n",
      " 4   broadcasthour  851 non-null    object \n",
      " 5   duration       851 non-null    object \n",
      " 6   views          851 non-null    object \n",
      " 7   share          156 non-null    object \n",
      " 8   AI             626 non-null    float64\n",
      " 9   chart          851 non-null    int64  \n",
      " 10  summary        757 non-null    object \n",
      "dtypes: float64(1), int64(2), object(8)\n",
      "memory usage: 73.3+ KB\n"
     ]
    }
   ],
   "source": [
    "del df['cast']\n",
    "\n",
    "del df['crew']\n",
    "\n",
    "df.info() #after"
   ]
  },
  {
   "cell_type": "markdown",
   "metadata": {},
   "source": [
    "So let's write this as dwguide_clean.csv so we don't have to go through this rigmarole in the future, and the messy json columns are gone."
   ]
  },
  {
   "cell_type": "code",
   "execution_count": 5,
   "metadata": {},
   "outputs": [],
   "source": [
    "df.to_csv('dwguide_clean.csv', index=False)"
   ]
  }
 ],
 "metadata": {
  "kernelspec": {
   "display_name": "Python 3",
   "language": "python",
   "name": "python3"
  },
  "language_info": {
   "codemirror_mode": {
    "name": "ipython",
    "version": 3
   },
   "file_extension": ".py",
   "mimetype": "text/x-python",
   "name": "python",
   "nbconvert_exporter": "python",
   "pygments_lexer": "ipython3",
   "version": "3.12.0"
  }
 },
 "nbformat": 4,
 "nbformat_minor": 2
}
